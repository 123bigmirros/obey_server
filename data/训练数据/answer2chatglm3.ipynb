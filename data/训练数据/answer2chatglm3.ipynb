{
 "cells": [
  {
   "cell_type": "code",
   "execution_count": 3,
   "metadata": {},
   "outputs": [],
   "source": [
    "file_path = \"answer.txt\"\n",
    "conversations = []\n",
    "with open(file_path, \"r\") as file:\n",
    "    lines = file.readlines()\n",
    "current_str = \"\"\n",
    "conversation = []\n",
    "def get_conversation(conversation_tmp):\n",
    "    if ('output' != conversation_tmp[0][0:6]) or ('input' != conversation_tmp[1][0:5]):\n",
    "        return None \n",
    "    try:\n",
    "        ot = eval(conversation_tmp[0].split('=')[-1])\n",
    "    except:\n",
    "        return None\n",
    "    ip = conversation_tmp[1].split('=')[-1]\n",
    "    #提取ip中被{}包裹的内容\n",
    "    ip = ip[ip.find('{')+1:ip.find('}')]\n",
    "    ip = ip[2:-1]\n",
    "    for key in ot.keys():\n",
    "        if type(ot[key]) != str:\n",
    "\n",
    "            return None\n",
    "    result = {\"instruction\":\"提取合同中的履约要求、交付地点、结算信息、物料信息、以及附加条款。在此基础上，分析合同中可能包含的字段，并结构化提取和输出合同字段，将非结构化的文本转换成结构化数据。\\n输入：合同内容\\n输出：结构化的合同要素\\n\"}\n",
    "    result[\"input\"] = str(ip)\n",
    "    result[\"output\"] = str(ot)\n",
    "    result[\"system\"] = \"\"\n",
    "    result[\"history\"] = []\n",
    "    return result\n",
    "for line in lines:\n",
    "    if '---' in line:\n",
    "        conversation.append(current_str)\n",
    "        if len(conversation) == 2:\n",
    "            conversation = get_conversation(conversation) \n",
    "            if conversation!=None:\n",
    "                conversations.append(conversation)\n",
    "            conversation = []\n",
    "            \n",
    "        current_str = \"\"\n",
    "    else:\n",
    "        current_str = current_str + line\n",
    "\n",
    "# 就conversations原内容写入json文件\n",
    "import json\n",
    "with open(\"conversations.json\", \"w\") as file:\n",
    "    json.dump(conversations, file, indent=4, ensure_ascii=False)"
   ]
  }
 ],
 "metadata": {
  "kernelspec": {
   "display_name": "base",
   "language": "python",
   "name": "python3"
  },
  "language_info": {
   "codemirror_mode": {
    "name": "ipython",
    "version": 3
   },
   "file_extension": ".py",
   "mimetype": "text/x-python",
   "name": "python",
   "nbconvert_exporter": "python",
   "pygments_lexer": "ipython3",
   "version": "3.11.0"
  }
 },
 "nbformat": 4,
 "nbformat_minor": 2
}
